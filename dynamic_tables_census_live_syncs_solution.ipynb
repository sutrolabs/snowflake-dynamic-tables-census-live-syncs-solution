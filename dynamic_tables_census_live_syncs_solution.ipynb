{
 "metadata": {
  "kernelspec": {
   "display_name": "Streamlit Notebook",
   "name": "streamlit"
  }
 },
 "nbformat_minor": 5,
 "nbformat": 4,
 "cells": [
  {
   "cell_type": "markdown",
   "id": "bcba9f6f-5a13-44c8-86fa-e1c5e978cfe5",
   "metadata": {
    "name": "create_profiles_table_desc",
    "collapsed": false
   },
   "source": "## Create Profiles Table\nFirst we'll create table to store our customer profiles. We'll use the information in this table to personalize the emails that we send. In order to use this data with a Census Live Sync, we need to enable change tracking. (Note: change tracking can only be enabled by the table's owner, so it's easiest to configure this when the table is first created.)"
  },
  {
   "cell_type": "code",
   "id": "30582bec-c594-414e-b13d-885c8454a176",
   "metadata": {
    "language": "sql",
    "name": "create_profiles_table",
    "collapsed": false
   },
   "outputs": [],
   "source": "CREATE OR REPLACE TABLE customer_profiles (\n    customer_id INT PRIMARY KEY,\n    name VARCHAR,\n    email_address VARCHAR\n)\nCHANGE_TRACKING = TRUE;",
   "execution_count": null
  },
  {
   "cell_type": "markdown",
   "id": "a602d4d9-fdd0-4be9-8cdd-117804d9bc7d",
   "metadata": {
    "name": "create_events_table_desc",
    "collapsed": false
   },
   "source": "## Create Events Table\nNext, we'll create a table to store event data related to our customers. We'll use these events to trigger our emails (emails will be sent when new events are created). Events will be associated with a customer by ID, and we can use this to associate them with the customer profile data we already have. Change tracking needs to be enabled for this table as well."
  },
  {
   "cell_type": "code",
   "id": "b3ade54f-ca2a-4194-9707-b6241f40d0ed",
   "metadata": {
    "language": "sql",
    "name": "create_events_table",
    "collapsed": false
   },
   "outputs": [],
   "source": "CREATE OR REPLACE TABLE customer_events (\n    id BIGINT PRIMARY KEY,\n    customer_id INT,\n    time TIMESTAMP_TZ NOT NULL,\n    event_type VARCHAR NOT NULL,\n    order_number INT\n)\nCHANGE_TRACKING = TRUE;",
   "execution_count": null
  },
  {
   "cell_type": "markdown",
   "id": "079a3289-b1c9-43df-89dd-6bccf454b313",
   "metadata": {
    "name": "create_dynamic_table_desc",
    "collapsed": false
   },
   "source": "## Join and Filter Profile and Event Data in a Dynamic Table\nNow that we have tables for both our profile and event data, we'll join and filter them to create the data we want to use to send emails by creating a dynamic table. The dynamic table is incrementally refreshed when the data in the tables referenced in the query are updated. Our dynamic table has a target lag of 1 minute, which means new events will be added within about a minute of when they are created in the events table.\n\nWe're filtering our events by type. This allows us to use one events table to store many different kinds of customer-related events, and then define in the dynamic table's query which events we want to use to trigger our emails.\n\nEach row in this dynamic table represents a single email we want to send to a customer related to a specific event."
  },
  {
   "cell_type": "code",
   "id": "ba4543db-1280-472a-93de-244fe7679f83",
   "metadata": {
    "language": "sql",
    "name": "create_dynamic_table",
    "collapsed": false
   },
   "outputs": [],
   "source": "CREATE DYNAMIC TABLE order_delivered_email_sends (\n    event_id,\n    event_time,\n    customer_name,\n    customer_email_address,\n    order_number\n)\nTARGET_LAG = '1 minutes'\nWAREHOUSE = DEVELOPER_TESTING\nREFRESH_MODE = INCREMENTAL\nAS SELECT\n    customer_events.id,\n    customer_events.time,\n    customer_profiles.name,\n    customer_profiles.email_address,\n    customer_events.order_number\n    FROM customer_events\n        INNER JOIN customer_profiles\n            ON customer_events.customer_id = customer_profiles.customer_id\n    WHERE customer_events.event_type = 'OrderDelivered'\n        AND customer_profiles.email_address IS NOT NULL;",
   "execution_count": null
  },
  {
   "cell_type": "markdown",
   "id": "6f37af2e-2e29-4fc7-8825-3dfeda1cacac",
   "metadata": {
    "name": "create_census_live_sync_desc",
    "collapsed": false
   },
   "source": "## Create a Census Live Sync\n\nNow we're ready to create a Census Live Sync that will send emails via our email service provider or marketing automation tool based on the data in our dynamic table.\n\n### Prerequisites\n- If you haven't already, [start a free Census trial](https://app.getcensus.com/signup).\n- [Connect your Snowflake account to Census as a data source](https://docs.getcensus.com/sources/available-sources/snowflake).\n- Connect your email service provider or marketing automation tool to Census as a destination. For this example, we'll be using [Braze](https://docs.getcensus.com/destinations/available-destinations/braze).\n\n### Create the Sync\nUsing the navigation menu on the left side of [Census](https://app.getcensus.com), navigate to **Syncs**, then click the **New Sync** button in the upper right corner.\nThe New Sync page appears.\n\n1. Under **Select a Source**, pick **Any Warehouse Table**, select your Snowflake connection, and select your database, schema, and the `order_delivered_email_sends` dynamic table.\n2. Under **Select a Destination**, select your Braze connection, and select an existing Braze API-triggered campaign or API-triggered canvas.\n3. Under **Select a Sync Behavior**, choose **Activate Events**. This ensures that emails are only sent when new records are added. Then choose **Send**.\n4. Under **Select as Sync Key**, choose your `customer_id` column, and map this to the Braze **External ID** field.\n5. Map additional columns to custom attributes in Braze. These attributes can be used to customize the email template that your send. For example, you can greet the customer by name by mapping the `customer_name` column, and refer to their order number using the `order_number` column.\n6. Click **Next** to proceed to the Sync Summary page.\n7. Under **Select a Run Mode**, choose **Live**. Census will create and continuously monitor a [Snowflake Stream](https://docs.snowflake.com/en/user-guide/streams-intro) to track and activate changes to your dynamic table as they occur.\n8. Click **Create**, then, on the Sync Details page, click the toggle in the upper right corner of the page to enable your Live Sync."
  },
  {
   "cell_type": "markdown",
   "id": "6a67517f-911b-402e-b7c6-f5af2dba6549",
   "metadata": {
    "name": "create_profile_desc",
    "collapsed": false
   },
   "source": "## Create a Customer Profile\nOnce the Census Live Sync is running, it will take a few minutes to start up and provision a Snowflake Stream in your warehouse to begin monitoring changes. While the sync is starting, we can create a customer profile.\n\nIf you're using Braze, you'll need a corresponding User in Braze with a matching external ID. If you're using an email service provider like [SendGrid](https://docs.getcensus.com/destinations/available-destinations/sendgrid), you may be able to simply identify customers by email address.\n\nWe're using test data here, but you will want to ensure the email is sent to an email address you have access to."
  },
  {
   "cell_type": "code",
   "id": "0d4a346d-fb80-4461-b318-7853cd896115",
   "metadata": {
    "language": "sql",
    "name": "create_profile"
   },
   "outputs": [],
   "source": "INSERT INTO customer_profiles (customer_id, name, email_address) VALUES (123, 'Alice', 'alice@example.com');",
   "execution_count": null
  },
  {
   "cell_type": "markdown",
   "id": "512bfb3f-8282-4044-a792-d23c9aae0d42",
   "metadata": {
    "name": "create_event_desc",
    "collapsed": false
   },
   "source": "## Create an Order Delivered Event\n\nThe total time it takes for the data to reach Census and be sent on to your email service provider or marketing automation tool is dependent on the target lag of your dynamic table. As soon as Census receives your data, the counters on the Sync Details screen update. However, it can take a minute or two for an email to actually reach your recipient's inbox depending on both your email service provider, and your recipient's email host."
  },
  {
   "cell_type": "code",
   "id": "b112a17c-527e-43f3-9201-889ebfb4ad18",
   "metadata": {
    "language": "sql",
    "name": "create_event"
   },
   "outputs": [],
   "source": "INSERT INTO customer_events (id, time, type, customer_id, order_number) VALUES (1, NOW(), 'OrderDelivered', 123, 999);",
   "execution_count": null
  },
  {
   "cell_type": "markdown",
   "id": "d38ce8bf-120a-428f-8b55-326af122754b",
   "metadata": {
    "name": "view_census_sync_logs_desc",
    "collapsed": false
   },
   "source": "## Access the Census Sync Log in Snowflake\n\nAs long as we are sending email to ourselves, it's easy to keep track of which emails have been sent and received. Once you're are sending email to your customers, you'll want observability into what data Census has received, when and how it activated that data, and information about any errors or failures that have occurred.\n\nCensus Live Syncs write sync logs to the `CENSUS.CENSUS` schema in your Snowflake account. You can query the `SYNC_LOG` view to access information about all your Census syncs.\n\nIf you look in the Census schema, you will also find the Snowflake Stream that Census created when you created your Live Sync. Do not read from this stream yourself, because reading from a stream consumes the data inside it, preventing Census from being able to activate the data for your.\n\nNote that new entries in your sync log from a Census Live Sync may take seconds or minutes to appear."
  },
  {
   "cell_type": "code",
   "id": "69b8d3fb-728b-4e49-858d-85d7b17e7d77",
   "metadata": {
    "language": "sql",
    "name": "view_census_sync_logs",
    "collapsed": false
   },
   "outputs": [],
   "source": "SELECT * FROM CENSUS.CENSUS.SYNC_LOG LIMIT 100;",
   "execution_count": null
  }
 ]
}